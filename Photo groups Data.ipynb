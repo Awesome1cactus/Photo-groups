{
 "cells": [
  {
   "cell_type": "markdown",
   "metadata": {},
   "source": [
    "<img align=\"center\" src=\"https://sun9-54.userapi.com/c543107/v543107547/23b15/U55ygyGaHYc.jpg\" width=\"550\">"
   ]
  },
  {
   "cell_type": "markdown",
   "metadata": {},
   "source": [
    "Соавторы - Лебедева Виктория, Шарапова Екатерина, Короваева Анастасия."
   ]
  },
  {
   "cell_type": "markdown",
   "metadata": {},
   "source": [
    "### Наша задача:"
   ]
  },
  {
   "cell_type": "markdown",
   "metadata": {},
   "source": [
    "Для нашего проекта мы решили поставить задачу, которая будет каким-то образом связана с направлением нашего обучения в Высшей школе экономики. Так у нас возникла идея, что в рекламных целях нам надо создать собственный паблик, темой которого будет искусство фотографии и их последующая обработка.\n",
    "\n",
    "Для анализа мы взяли 7 пабликов, связанные с фотографией и фотошопом, в которых мы выделяем тематики для того, чтобы определить, какой контент будет в нашем паблике. Также мы качаем соцдем по этим 7 группам, чтобы определить примерную целевую аудиторию нашего будущего паблика."
   ]
  },
  {
   "cell_type": "markdown",
   "metadata": {},
   "source": [
    "### Качаем данные о любителях фотографии))"
   ]
  },
  {
   "cell_type": "markdown",
   "metadata": {},
   "source": [
    "Для данной работы мы взяли 7 групп связанных с обработкой фотографий, в которых мы проанализировали их подписчиков. \n",
    "\n",
    "* [Обработка фото - Photoshop - Lightroom](https://vk.com/artmilart)\n",
    "* [Фотография для души](https://vk.com/foto_forsoul)\n",
    "* [Фотошоп-мастер](https://vk.com/phmaste)\n",
    "* [Art Family](https://vk.com/club_of_photoshop)\n",
    "* [Lightroom&Photoshop](https://vk.com/lr_school)\n",
    "* [Журнал PhotoCasa](https://vk.com/journalphoto)\n",
    "* [Photoshop + Творчество](https://vk.com/psclub)\n"
   ]
  },
  {
   "cell_type": "code",
   "execution_count": 9,
   "metadata": {},
   "outputs": [],
   "source": [
    "import requests # библиотека для походов в интернет\n",
    "import time     # пакет для работы с временем"
   ]
  },
  {
   "cell_type": "code",
   "execution_count": 84,
   "metadata": {},
   "outputs": [],
   "source": [
    "# мой номер странички\n",
    "myid = '216465800'# вставить номер странички\n",
    "\n",
    "# версия используемого API\n",
    "version = '5.103' \n",
    "\n",
    "# подгружаем токен\n",
    "#with open('secret_token.txt') as f:\n",
    "token =''"
   ]
  },
  {
   "cell_type": "code",
   "execution_count": 85,
   "metadata": {},
   "outputs": [],
   "source": [
    "def vk_download(method, parameters):\n",
    "    url = 'https://api.vk.com/method/' + method + '?' + parameters + '&access_token=' + str(token) + '&v=' + version\n",
    "    response = requests.get(url) \n",
    "    infa = response.json()\n",
    "    return infa "
   ]
  },
  {
   "cell_type": "code",
   "execution_count": 86,
   "metadata": {},
   "outputs": [
    {
     "data": {
      "text/plain": [
       "{'response': [{'id': 216465800,\n",
       "   'first_name': 'Анастасия',\n",
       "   'last_name': 'Короваева',\n",
       "   'is_closed': False,\n",
       "   'can_access_closed': True}]}"
      ]
     },
     "execution_count": 86,
     "metadata": {},
     "output_type": "execute_result"
    }
   ],
   "source": [
    "method = 'users.get'\n",
    "parameters = 'user_ids=' + myid\n",
    "\n",
    "vk_download(method, parameters)"
   ]
  },
  {
   "cell_type": "markdown",
   "metadata": {},
   "source": [
    "Ура, работает!"
   ]
  },
  {
   "cell_type": "markdown",
   "metadata": {},
   "source": [
    "Берем 7 групп связанных с обработкой фотографий, в которых мы будем анализировать их подписчиков. \n"
   ]
  },
  {
   "cell_type": "code",
   "execution_count": 23,
   "metadata": {},
   "outputs": [],
   "source": [
    "publics = {\n",
    "    'foto_forsoul': '16685',\n",
    "    'artmilart': '4511982',\n",
    "    'phmaste': '41454884',\n",
    "    'club_of_photoshop': '7560633',\n",
    "    'lr_school': '68024674',\n",
    "    'journalphoto': '47332952',\n",
    "    'psclub':'337'\n",
    "      }"
   ]
  },
  {
   "cell_type": "code",
   "execution_count": 19,
   "metadata": {},
   "outputs": [],
   "source": [
    "cur_id = publics['psclub']"
   ]
  },
  {
   "cell_type": "markdown",
   "metadata": {},
   "source": [
    "Давайте узнаем сколько в группе человек"
   ]
  },
  {
   "cell_type": "code",
   "execution_count": 20,
   "metadata": {},
   "outputs": [
    {
     "data": {
      "text/plain": [
       "549616"
      ]
     },
     "execution_count": 20,
     "metadata": {},
     "output_type": "execute_result"
    }
   ],
   "source": [
    "# узнаем сколько в группе человек\n",
    "cur_infa = vk_download('groups.getMembers', 'group_id=' + str(cur_id))\n",
    "cur_infa['response']['count']"
   ]
  },
  {
   "cell_type": "code",
   "execution_count": 21,
   "metadata": {},
   "outputs": [
    {
     "data": {
      "text/plain": [
       "499616"
      ]
     },
     "execution_count": 21,
     "metadata": {},
     "output_type": "execute_result"
    }
   ],
   "source": [
    "cur_infa['response']['count'] - 50000"
   ]
  },
  {
   "cell_type": "code",
   "execution_count": 22,
   "metadata": {},
   "outputs": [
    {
     "data": {
      "text/plain": [
       "499616"
      ]
     },
     "execution_count": 22,
     "metadata": {},
     "output_type": "execute_result"
    }
   ],
   "source": [
    "start_offset = max(0, cur_infa['response']['count'] - 50000)\n",
    "start_offset"
   ]
  },
  {
   "cell_type": "code",
   "execution_count": 24,
   "metadata": {},
   "outputs": [],
   "source": [
    "def group_members_download(cur_id):\n",
    "    \n",
    "    # Сколько всего в группе людей\n",
    "    cur_infa = vk_download('groups.getMembers', 'group_id=' + str(cur_id))\n",
    "    \n",
    "    # стартовая точка\n",
    "    start_offset = max(0, cur_infa['response']['count'] - 5000)\n",
    "\n",
    "    infa = [ ] # сюда буду сохранять людей\n",
    "\n",
    "    # качаем по 1000 штук по циклу :) \n",
    "    for offset in range(start_offset, start_offset + 5000, 1000):\n",
    "\n",
    "        time.sleep(0.4) # вк согласен работать 3 раза в секунду, \n",
    "                        # эта строка нужна, чтобы он не ругался \n",
    "\n",
    "        cur_infa = vk_download('groups.getMembers', \n",
    "                    'group_id=' + str(cur_id) + '&offset=' + str(offset))\n",
    "\n",
    "        infa.extend(cur_infa['response']['items'])\n",
    "    return infa"
   ]
  },
  {
   "cell_type": "code",
   "execution_count": 111,
   "metadata": {},
   "outputs": [
    {
     "data": {
      "text/plain": [
       "dict_keys([])"
      ]
     },
     "execution_count": 111,
     "metadata": {},
     "output_type": "execute_result"
    }
   ],
   "source": [
    "members.keys()"
   ]
  },
  {
   "cell_type": "code",
   "execution_count": 112,
   "metadata": {},
   "outputs": [
    {
     "name": "stdout",
     "output_type": "stream",
     "text": [
      "Качаю группу foto_forsoul\n",
      "Качаю группу artmilart\n",
      "Качаю группу phmaste\n",
      "Качаю группу club_of_photoshop\n",
      "Качаю группу lr_school\n",
      "Качаю группу journalphoto\n",
      "Качаю группу psclub\n"
     ]
    }
   ],
   "source": [
    "members = {} # сюда будем класть всех членов групп по очереди\n",
    "\n",
    "for k,v in publics.items():\n",
    "    print('Качаю группу', k)\n",
    "    infa = group_members_download(v)\n",
    "    members[k] = infa  "
   ]
  },
  {
   "cell_type": "code",
   "execution_count": 29,
   "metadata": {
    "scrolled": false
   },
   "outputs": [],
   "source": [
    "import pickle  # пакет для сохранения и подгрузки питонячих объектов\n",
    "\n",
    "# сохраняем всё в файл group_members.pickle\n",
    "#with open('group_members_new.pickle', 'wb') as f:\n",
    "    #pickle.dump(members, f)\n",
    "    \n",
    "# Подгрузить данные из файлика можно вот так: \n",
    "with open('group_members.pickle', 'rb') as f:\n",
    "    members = pickle.load(f)"
   ]
  },
  {
   "cell_type": "markdown",
   "metadata": {},
   "source": [
    "#### Будем чистить участников групп и грузить соц-дем"
   ]
  },
  {
   "cell_type": "markdown",
   "metadata": {},
   "source": [
    "Так как не все участники группы активны, нам необходимо почистить участников. Удалим тех, кто долго не появлялся в сети или удалил страницу. Заодно будем грузить соц-дем о участниках (день рождения. город, родной город и пол)."
   ]
  },
  {
   "cell_type": "code",
   "execution_count": 30,
   "metadata": {},
   "outputs": [
    {
     "data": {
      "text/plain": [
       "1576788035.65495"
      ]
     },
     "execution_count": 30,
     "metadata": {},
     "output_type": "execute_result"
    }
   ],
   "source": [
    "# Пакет time позволяет посмотреть сколько секунд прошло к текущему моменту. \n",
    "time.time()"
   ]
  },
  {
   "cell_type": "code",
   "execution_count": 32,
   "metadata": {},
   "outputs": [],
   "source": [
    "fields = 'last_seen, bdate, city, home_town, sex'"
   ]
  },
  {
   "cell_type": "code",
   "execution_count": 33,
   "metadata": {},
   "outputs": [],
   "source": [
    "def filter_members(memes_id):\n",
    "    \n",
    "    # сделали id текстом\n",
    "    memes_id_text = [str(item) for item in memes_id]\n",
    "    \n",
    "    clean_memes_id = [ ] # список для хорших id \n",
    "    \n",
    "    # качаем информацию кусочками по 300 штук\n",
    "    for i in range(len(memes_id_text)//300):\n",
    "                \n",
    "        time.sleep(0.4) # немного подождали, чтобы вк нас не банил\n",
    "        \n",
    "                                                         # взяли текущие 300 человек из списка\n",
    "        infa = vk_download('users.get','user_ids=' + ','.join(memes_id_text[i*300:(i+1)*300]) + '&fields={}'.format(fields))\n",
    " \n",
    "        \n",
    "\n",
    "        # чистим пользователей\n",
    "        for item in infa['response']:\n",
    "\n",
    "            try: # попробуй сделать вот это\n",
    "\n",
    "                # если пользователь не удален, не приватный, а ещё недавно был в сети \n",
    "                if ('deactivated' not in item) and \\\n",
    "                   (item['is_closed'] == False) and \\\n",
    "                   (item['last_seen']['time'] >= time.time() - 30*24*60*60):\n",
    "\n",
    "                            clean_memes_id.append(item) # запоминаем его \n",
    "\n",
    "            except:   # если питон говорит, что ошибся, сделай вот это \n",
    "                pass  # (ничего не делай) \n",
    "    \n",
    "\n",
    "    # можно выводить инфу на экран вот так\n",
    "    print('остаось {} человек'.format(len(clean_memes_id)))\n",
    "    \n",
    "    return clean_memes_id # вернули из функции чистые id"
   ]
  },
  {
   "cell_type": "code",
   "execution_count": 33,
   "metadata": {
    "scrolled": true
   },
   "outputs": [
    {
     "name": "stdout",
     "output_type": "stream",
     "text": [
      "Фильтрую id из группы foto_forsoul\n",
      "остаось 24506 человек\n",
      "Фильтрую id из группы artmilart\n",
      "остаось 22920 человек\n",
      "Фильтрую id из группы phmaste\n",
      "остаось 20921 человек\n",
      "Фильтрую id из группы club_of_photoshop\n",
      "остаось 21796 человек\n",
      "Фильтрую id из группы lr_school\n",
      "остаось 26824 человек\n",
      "CPU times: user 24.6 s, sys: 2.02 s, total: 26.6 s\n",
      "Wall time: 9min 44s\n"
     ]
    }
   ],
   "source": [
    "%%time\n",
    "clean_members = { } # сюда будем класть всех прочищеных членов групп по очереди\n",
    "\n",
    "for k,v in members.items():\n",
    "    print('Фильтрую id из группы', k)\n",
    "    infa = filter_members(v)\n",
    "    clean_members[k] = infa  "
   ]
  },
  {
   "cell_type": "code",
   "execution_count": 34,
   "metadata": {
    "scrolled": false
   },
   "outputs": [],
   "source": [
    "with open('group_clean_members_extended.pickle', 'wb') as f:\n",
    "    pickle.dump(clean_members, f)"
   ]
  },
  {
   "cell_type": "code",
   "execution_count": 48,
   "metadata": {},
   "outputs": [],
   "source": [
    "import pickle\n",
    "with open('group_clean_members_extended.pickle', 'rb') as f:\n",
    "    clean_members = pickle.load(f)"
   ]
  },
  {
   "cell_type": "code",
   "execution_count": 63,
   "metadata": {},
   "outputs": [
    {
     "data": {
      "text/plain": [
       "{'id': 3100364,\n",
       " 'first_name': 'Юлия',\n",
       " 'last_name': 'Плотникова',\n",
       " 'is_closed': False,\n",
       " 'can_access_closed': True,\n",
       " 'sex': 1,\n",
       " 'bdate': '14.8',\n",
       " 'city': {'id': 10, 'title': 'Волгоград'},\n",
       " 'last_seen': {'time': 1576774092, 'platform': 4},\n",
       " 'home_town': 'Волгоград'}"
      ]
     },
     "execution_count": 63,
     "metadata": {},
     "output_type": "execute_result"
    }
   ],
   "source": [
    "clean_members['foto_forsoul'][0]"
   ]
  },
  {
   "cell_type": "code",
   "execution_count": 41,
   "metadata": {},
   "outputs": [],
   "source": [
    "def get_wall(user_id):\n",
    "    # скачели стену \n",
    "    wall = vk_download('wall.get', 'owner_id='+str(user_id)+'&count=100')\n",
    "    \n",
    "    # распаковали её\n",
    "    try:\n",
    "        wall = wall['response']['items']\n",
    "        post_texts = [cur['text'] for cur in wall]\n",
    "        repost_texts = [cur['copy_history'][0]['text'] if 'copy_history' in cur else '' for cur in wall]\n",
    "\n",
    "        # соединили все посты и репосты в один длинный текст\n",
    "        wall_text = ' '.join(post_texts) + ' '.join(repost_texts)\n",
    "        return wall_text\n",
    "    except:\n",
    "        return ''"
   ]
  },
  {
   "cell_type": "code",
   "execution_count": 115,
   "metadata": {},
   "outputs": [
    {
     "name": "stdout",
     "output_type": "stream",
     "text": [
      "Качаю стены участников из группы club_of_photoshop\n"
     ]
    }
   ],
   "source": [
    "import numpy as np\n",
    "\n",
    "#Из-за ограничения запросов в вк по одному аккаунту, будем качать каждую группу отдельно, с разных токенов\n",
    "\n",
    "for k,v in list(clean_members.items())[3:4]:\n",
    "    print('Качаю стены участников из группы', k)    \n",
    "    wall_members = [ ] # сюда будем сохранять стенки\n",
    "    \n",
    "    cur_members = np.array(v) \n",
    "    cur_sample = np.random.choice(cur_members, 1000, replace = False)\n",
    "    \n",
    "    for item in cur_sample:\n",
    "    \n",
    "        time.sleep(0.4) # отдыхаем между запросами \n",
    "        \n",
    "        # попробуй, если код упал, напечатай мне id пользователя\n",
    "        try:\n",
    "            # распаковываем стену пользователя \n",
    "            wall_text = get_wall(item['id'])\n",
    "\n",
    "            cur_item = {'group': k, 'id': item['id'], 'wall': wall_text}\n",
    "\n",
    "            wall_members.append(cur_item)\n",
    "        except:\n",
    "            print('Ошибка!', item) \n",
    "\n",
    "    # сохраняем итоговые тексты стенок для текущего сообщества \n",
    "    with open(k + '.pickle', 'wb') as f:\n",
    "        pickle.dump(wall_members, f)\n"
   ]
  },
  {
   "cell_type": "code",
   "execution_count": null,
   "metadata": {},
   "outputs": [],
   "source": []
  }
 ],
 "metadata": {
  "kernelspec": {
   "display_name": "Python 3",
   "language": "python",
   "name": "python3"
  },
  "language_info": {
   "codemirror_mode": {
    "name": "ipython",
    "version": 3
   },
   "file_extension": ".py",
   "mimetype": "text/x-python",
   "name": "python",
   "nbconvert_exporter": "python",
   "pygments_lexer": "ipython3",
   "version": "3.8.3"
  }
 },
 "nbformat": 4,
 "nbformat_minor": 2
}
